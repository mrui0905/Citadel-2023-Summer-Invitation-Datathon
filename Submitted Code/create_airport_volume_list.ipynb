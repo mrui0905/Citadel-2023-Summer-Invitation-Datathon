{
 "cells": [
  {
   "cell_type": "code",
   "execution_count": 2,
   "metadata": {},
   "outputs": [
    {
     "name": "stderr",
     "output_type": "stream",
     "text": [
      "/var/folders/d2/lsvbp7p92gnc5ql59sc72rx40000gn/T/ipykernel_75851/2298570993.py:5: DtypeWarning: Columns (16,17) have mixed types. Specify dtype option on import or set low_memory=False.\n",
      "  df = pd.read_csv(path_to_data_file)\n"
     ]
    }
   ],
   "source": [
    "import os\n",
    "import pandas as pd\n",
    "\n",
    "path_to_data_file = \"/Users/tristanbrigham/Desktop/Citadel Datathon/Local Important Data/Consumer_Airfare_Report__Table_6_-_Contiguous_State_City-Pair_Markets_That_Average_At_Least_10_Passengers_Per_Day.csv\"\n",
    "df = pd.read_csv(path_to_data_file)"
   ]
  },
  {
   "cell_type": "code",
   "execution_count": 9,
   "metadata": {},
   "outputs": [
    {
     "name": "stdout",
     "output_type": "stream",
     "text": [
      "      Year  citymarketid  passengers\n",
      "0     1996         30135      6164.0\n",
      "1     1996         30136       289.0\n",
      "2     1996         30140     50192.0\n",
      "3     1996         30141        53.0\n",
      "4     1996         30146       188.0\n",
      "...    ...           ...         ...\n",
      "6672  2022         35323      2075.0\n",
      "6673  2022         35356      4823.0\n",
      "6674  2022         35380      3983.0\n",
      "6675  2022         35412     18025.0\n",
      "6676  2022         35550        21.0\n",
      "\n",
      "[6677 rows x 3 columns]\n"
     ]
    }
   ],
   "source": [
    "import pandas as pd\n",
    "\n",
    "# Sample DataFrame\n",
    "\n",
    "# Create a dictionary of dictionaries to store total passengers for each airport every year\n",
    "airport_totals = {}\n",
    "\n",
    "# Concatenate source_city and destination_city to create market_id column\n",
    "# df['market_id'] = df['source_city'] + '_' + df['destination_city']\n",
    "\n",
    "# Group by year and market_id, and calculate the total passengers for each group\n",
    "result_df_1 = df.groupby(['Year', 'citymarketid_1'])['passengers'].sum().reset_index()\n",
    "result_df_1.rename(columns={'Year': 'Year', 'citymarketid_1': 'citymarketid', 'passengers': 'passengers'}, inplace=True)\n",
    "\n",
    "result_df_2 = df.groupby(['Year', 'citymarketid_2'])['passengers'].sum().reset_index()\n",
    "result_df_2.rename(columns={'Year': 'Year', 'citymarketid_2': 'citymarketid', 'passengers': 'passengers'}, inplace=True)\n",
    "\n",
    "# Merge the DataFrames based on col1 and col2\n",
    "merged_df = result_df_1.merge(result_df_2, on=['Year', 'citymarketid'], suffixes=('_df1', '_df2'), how='left')\n",
    "\n",
    "# Add col3_df2 values to col3_df1, where not null\n",
    "merged_df['passengers_df1'] += merged_df['passengers_df2'].fillna(0)\n",
    "\n",
    "# Drop the col3_df2 column\n",
    "merged_df.drop(columns='passengers_df2', inplace=True)\n",
    "\n",
    "# Rename columns as per the requirements\n",
    "merged_df.rename(columns={'Year': 'Year', 'citymarketid_1': 'market_id', 'passengers_df1': 'passengers'}, inplace=True)\n",
    "\n",
    "print(merged_df)\n",
    "\n",
    "folder = \"/Users/tristanbrigham/Desktop/Citadel Datathon/Citadel_Correlation_One_Datathon/crucial_data_and_files/markets_to_people_per_day.csv\"\n",
    "merged_df.to_csv(folder, index=False)\n"
   ]
  },
  {
   "cell_type": "code",
   "execution_count": null,
   "metadata": {},
   "outputs": [],
   "source": []
  }
 ],
 "metadata": {
  "kernelspec": {
   "display_name": "tensorflow",
   "language": "python",
   "name": "python3"
  },
  "language_info": {
   "codemirror_mode": {
    "name": "ipython",
    "version": 3
   },
   "file_extension": ".py",
   "mimetype": "text/x-python",
   "name": "python",
   "nbconvert_exporter": "python",
   "pygments_lexer": "ipython3",
   "version": "3.10.11"
  },
  "orig_nbformat": 4
 },
 "nbformat": 4,
 "nbformat_minor": 2
}
