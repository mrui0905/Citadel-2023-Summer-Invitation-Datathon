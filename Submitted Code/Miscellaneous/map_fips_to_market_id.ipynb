{
 "cells": [
  {
   "cell_type": "markdown",
   "metadata": {},
   "source": [
    "# FIPS to Market Id's\n",
    "\n",
    "The purpose of this notebook is simple: we are taking fips and mapping them to their corresponding market id's so that we are able to figure out what airline routes are applicable to what fips. This will allow us to cross-reference gdp data with the counties that are affected. We do this by finding the closest market_id to the county latitude and longitude that we are provided."
   ]
  },
  {
   "cell_type": "code",
   "execution_count": 9,
   "metadata": {},
   "outputs": [],
   "source": [
    "import os\n",
    "import pandas as pd\n",
    "\n",
    "path_to_economic_growth_fips = \"/Users/tristanbrigham/Desktop/Citadel Datathon/Local Important Data/Auxillary Data/FIPS econ data/us_county_latlng.csv\"\n",
    "fips_mapping_df = pd.read_csv(path_to_economic_growth_fips)\n",
    "\n",
    "path_to_mkt_id = \"/Users/tristanbrigham/Desktop/Citadel Datathon/Citadel_Correlation_One_Datathon/crucial_data_and_files/code_to_region_state_mapping.csv\"\n",
    "mkt_df = pd.read_csv(path_to_mkt_id)"
   ]
  },
  {
   "cell_type": "code",
   "execution_count": 10,
   "metadata": {},
   "outputs": [],
   "source": [
    "# for calculating disance to market id lat and lon\n",
    "from math import sin, cos, sqrt, atan2, radians\n",
    "\n",
    "def calculate_distance(lat1, lon1, lat2, lon2):\n",
    "    # Convert latitude and longitude from degrees to radians\n",
    "    lat1_rad, lon1_rad, lat2_rad, lon2_rad = map(radians, [lat1, lon1, lat2, lon2])\n",
    "\n",
    "    # Radius of the Earth in kilometers\n",
    "    earth_radius_km = 6371.0\n",
    "\n",
    "    # Haversine formula\n",
    "    d_lat = lat2_rad - lat1_rad\n",
    "    d_lon = lon2_rad - lon1_rad\n",
    "\n",
    "    a = sin(d_lat / 2) ** 2 + cos(lat1_rad) * cos(lat2_rad) * sin(d_lon / 2) ** 2\n",
    "    c = 2 * atan2(sqrt(a), sqrt(1 - a))\n",
    "\n",
    "    # Calculate the distance in kilometers\n",
    "    distance_km = earth_radius_km * c\n",
    "\n",
    "    return distance_km"
   ]
  },
  {
   "cell_type": "code",
   "execution_count": 11,
   "metadata": {},
   "outputs": [
    {
     "name": "stdout",
     "output_type": "stream",
     "text": [
      "          0\n",
      "0     33277\n",
      "1     30466\n",
      "2     33277\n",
      "3     30599\n",
      "4     30599\n",
      "...     ...\n",
      "3228  33360\n",
      "3229  33360\n",
      "3230  33360\n",
      "3231  33360\n",
      "3232  33360\n",
      "\n",
      "[3233 rows x 1 columns]\n"
     ]
    }
   ],
   "source": [
    "# Find the closest row in df2 for each row in df1\n",
    "closest_mkt_id = []\n",
    "\n",
    "for index1, row1 in fips_mapping_df.iterrows():\n",
    "    closest_row = None\n",
    "    min_distance = float('inf')\n",
    "\n",
    "    for index2, row2 in mkt_df.iterrows():\n",
    "        distance = calculate_distance(row1['lat'], row1['lng'], row2['latitude'], row2['longitude'])\n",
    "\n",
    "        if distance < min_distance:\n",
    "            min_distance = distance\n",
    "            closest_row = row2\n",
    "\n",
    "    closest_mkt_id.append(closest_row[\"market_id\"])\n",
    "\n",
    "# Create a new DataFrame with the closest rows\n",
    "result_df = pd.DataFrame(closest_mkt_id)\n",
    "\n",
    "fips_mapping_df[\"mkt_id\"] = result_df\n",
    "\n",
    "print(result_df)"
   ]
  },
  {
   "cell_type": "code",
   "execution_count": 13,
   "metadata": {},
   "outputs": [],
   "source": [
    "fips_mapping_df.to_csv(path_to_economic_growth_fips)"
   ]
  },
  {
   "cell_type": "code",
   "execution_count": null,
   "metadata": {},
   "outputs": [],
   "source": []
  }
 ],
 "metadata": {
  "kernelspec": {
   "display_name": "tensorflow",
   "language": "python",
   "name": "python3"
  },
  "language_info": {
   "codemirror_mode": {
    "name": "ipython",
    "version": 3
   },
   "file_extension": ".py",
   "mimetype": "text/x-python",
   "name": "python",
   "nbconvert_exporter": "python",
   "pygments_lexer": "ipython3",
   "version": "3.10.11"
  },
  "orig_nbformat": 4
 },
 "nbformat": 4,
 "nbformat_minor": 2
}
