{
 "cells": [
  {
   "cell_type": "code",
   "execution_count": null,
   "metadata": {},
   "outputs": [],
   "source": [
    "import pandas as pd\n",
    "import matplotlib.pyplot as plt\n",
    "import numpy as np\n",
    "import datetime\n",
    "pd.set_option('display.max_rows', 100)\n",
    "pd.set_option('display.max_columns', 500)"
   ]
  },
  {
   "cell_type": "code",
   "execution_count": null,
   "metadata": {},
   "outputs": [],
   "source": [
    "# need to update\n",
    "\n",
    "fares_df = pd.read_csv('/Users/matthew/Documents/citadel/fares.csv')"
   ]
  },
  {
   "cell_type": "code",
   "execution_count": null,
   "metadata": {},
   "outputs": [],
   "source": [
    "mean = {}\n",
    "# 7 largest airlines in U.S. from largest to smallest\n",
    "airline_codes = ['AA', 'DL', 'WN', 'UA', 'AS', 'B6', 'NK']\n",
    "\n",
    "across_amt = 4\n",
    "for idx, code in enumerate(airline_codes): \n",
    "    print(f\"ANALYZING CODE: {code}\")\n",
    "    \n",
    "    # get only the data for that airline\n",
    "    airplane_code_df = fares_df[fares_df[\"airline_id\"] == code]\n",
    "\n",
    "    # create the arrays that will store the data\n",
    "    x_dat_dist_price = []\n",
    "    y_dat_dist_price = []\n",
    "    \n",
    "    # go through the airliner flights\n",
    "    for row_idx, row in airplane_code_df.iterrows():\n",
    "        total_cost = 0\n",
    "        total_amt = 0\n",
    "        # go through the buckets\n",
    "        for i in range(10, 2509, 10):\n",
    "        \n",
    "            # get the average cost and the distance\n",
    "            total_cost += i * row[str(i)]\n",
    "\n",
    "            total_amt += int(row[str(i)])\n",
    "         \n",
    "        # append the data\n",
    "        x_dat_dist_price.append(row[\"distance\"])\n",
    "        y_dat_dist_price.append(total_cost / total_amt)\n",
    "    \n",
    "    # assigning the dictionary indicies to the right values\n",
    "    mean[code] = sorted(zip(x_dat_dist_price, y_dat_dist_price))"
   ]
  },
  {
   "cell_type": "code",
   "execution_count": null,
   "metadata": {},
   "outputs": [],
   "source": [
    "airline_code_to_name = {\n",
    "    'AA' : 'American Airlines',\n",
    "    'UA' : 'United Airlines',\n",
    "    'WN' : 'Southwest Airlines',\n",
    "    'DL' : 'Delta Air Lines',\n",
    "    'B6' : 'JetBlue Airways',\n",
    "    'AS' : 'Alaska Airlines',\n",
    "    'NK' : 'Spirit Airlines'\n",
    "}"
   ]
  },
  {
   "cell_type": "code",
   "execution_count": null,
   "metadata": {},
   "outputs": [],
   "source": [
    "# create graphs per airline:\n",
    "for code in airline_codes:\n",
    "    x = [t[0] for t in mean['DL']]\n",
    "    y = [t[1] for t in mean['DL']]\n",
    "\n",
    "    # create scatterplot\n",
    "    plt.figure(figsize=(15, 10))  \n",
    "    plt.scatter(x, y)\n",
    "\n",
    "    plt.xlabel('Average Distance (mi)')\n",
    "    plt.ylabel('Average Price of Flight ($)')\n",
    "    plt.title(f'{airline_code_to_name[code]} Avg Distance vs. Fare Price')\n",
    "\n",
    "    # Show the plot\n",
    "    plt.show()"
   ]
  },
  {
   "cell_type": "code",
   "execution_count": null,
   "metadata": {},
   "outputs": [],
   "source": [
    "# Run exploratory_small_market_analysis.ipynb and exploratory_large_market_analysis.ipynb to create these datasets\n",
    "\n",
    "small = pd.read_csv('small_mkt.csv')\n",
    "large = pd.read_csv('large_mkt.csv')"
   ]
  },
  {
   "cell_type": "code",
   "execution_count": null,
   "metadata": {},
   "outputs": [],
   "source": [
    "d = {airline: {year:[] for year in range(2004, 2023)} for airline in small['Unnamed: 0'].unique()}\n",
    "\n",
    "for year in range(2004, 2023):\n",
    "    for i, row in small.iterrows():\n",
    "        d[row['Unnamed: 0']][year].append(float(row[str(year)][1:-1].split(', ')[0]))\n",
    "\n",
    "    for i, row in large.iterrows():\n",
    "        d[row['Unnamed: 0']][year].append(float(row[str(year)][1:-1].split(', ')[0]))\n",
    "\n",
    "df = pd.DataFrame(d)"
   ]
  },
  {
   "cell_type": "code",
   "execution_count": null,
   "metadata": {},
   "outputs": [],
   "source": [
    "for airline in airline_codes:\n",
    "    x = pd.date_range(start='2004-01-01', end='2022-01-01', freq='AS')\n",
    "    y1 = [row[0] for row in df[airline]]\n",
    "    y2 = [row[1] for row in df[airline]]\n",
    "    plt.plot(x, y1, label=f'Small Markets')\n",
    "    plt.plot(x, y2, label=f'Large Markets')\n",
    "\n",
    "    plt.title(f'{airline_code_to_name[airline]} cost/mile')\n",
    "    plt.xlabel('Year')\n",
    "    plt.ylabel('Dollars per Mile')\n",
    "\n",
    "    correlation = np.corrcoef(y1, y2)[0, 1]\n",
    "    correlation_text = f'Correlation: {correlation:.2f}'\n",
    "    plt.text(x[-1], y1[-1], correlation_text, ha='right', va='bottom')\n",
    "\n",
    "    plt.legend()\n",
    "    plt.show()\n",
    "\n"
   ]
  },
  {
   "cell_type": "code",
   "execution_count": null,
   "metadata": {},
   "outputs": [],
   "source": [
    "q = {airline: {year:[] for year in range(2004, 2023)} for airline in small['Unnamed: 0'].unique()}\n",
    "\n",
    "for year in range(2004, 2023):\n",
    "    for i, row in small.iterrows():\n",
    "        q[row['Unnamed: 0']][year].append(float(row[str(year)][1:-1].split(', ')[1]))\n",
    "\n",
    "    for i, row in large.iterrows():\n",
    "        q[row['Unnamed: 0']][year].append(float(row[str(year)][1:-1].split(', ')[1]))\n",
    "\n",
    "df_fixed = pd.DataFrame(q)"
   ]
  },
  {
   "cell_type": "code",
   "execution_count": null,
   "metadata": {},
   "outputs": [],
   "source": [
    "for airline in airline_codes:\n",
    "    x = pd.date_range(start='2004-01-01', end='2022-01-01', freq='AS')\n",
    "    y1 = [row[0] for row in df_fixed[airline]]\n",
    "    y2 = [row[1] for row in df_fixed[airline]]\n",
    "    plt.plot(x, y1, label=f'Small Markets')\n",
    "    plt.plot(x, y2, label=f'Large Markets')\n",
    "\n",
    "    plt.title(f'{airline_code_to_name[airline]} Fixed Fares')\n",
    "    plt.xlabel('Year')\n",
    "    plt.ylabel('Dollars')\n",
    "\n",
    "    correlation = np.corrcoef(y1, y2)[0, 1]\n",
    "    correlation_text = f'Correlation: {correlation:.2f}'\n",
    "    plt.text(x[-1], y1[-1], correlation_text, ha='right', va='bottom')\n",
    "\n",
    "    plt.legend()\n",
    "    plt.show()\n",
    "\n"
   ]
  },
  {
   "cell_type": "code",
   "execution_count": null,
   "metadata": {},
   "outputs": [],
   "source": [
    "for year in range(2004, 2023):\n",
    "    for i, airline in enumerate(airline_codes):\n",
    "        x = np.linspace(0, 1500, 100)\n",
    "\n",
    "        m1, b1 = small[str(year)][i][1:-1].split(', ')\n",
    "        m2, b2 = large[str(year)][i][1:-1].split(', ')\n",
    "\n",
    "        y1 = float(m1)*x+float(b1)\n",
    "        y2 = float(m2)*x+float(b2)\n",
    "\n",
    "        plt.plot(x, y1, color='blue', label='Small Market')\n",
    "        plt.plot(x, y2, color='red', label='Large Market')\n",
    "\n",
    "        plt.legend()\n",
    "        \n",
    "        plt.title(f'{airline} pricing model {year}')\n",
    "        plt.xlabel('Distance (miles)')\n",
    "        plt.ylabel('Cost ($)')\n",
    "\n",
    "        plt.show()"
   ]
  }
 ],
 "metadata": {
  "kernelspec": {
   "display_name": "Python 3",
   "language": "python",
   "name": "python3"
  },
  "language_info": {
   "codemirror_mode": {
    "name": "ipython",
    "version": 3
   },
   "file_extension": ".py",
   "mimetype": "text/x-python",
   "name": "python",
   "nbconvert_exporter": "python",
   "pygments_lexer": "ipython3",
   "version": "3.11.3"
  },
  "orig_nbformat": 4
 },
 "nbformat": 4,
 "nbformat_minor": 2
}
