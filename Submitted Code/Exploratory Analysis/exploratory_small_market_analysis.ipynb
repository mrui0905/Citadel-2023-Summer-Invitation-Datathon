{
 "cells": [
  {
   "cell_type": "code",
   "execution_count": 1,
   "metadata": {},
   "outputs": [],
   "source": [
    "import pandas as pd\n",
    "import matplotlib.pyplot as plt\n",
    "import numpy as np\n",
    "pd.set_option('display.max_rows', 10)\n",
    "pd.set_option('display.max_columns', 500)"
   ]
  },
  {
   "cell_type": "code",
   "execution_count": 2,
   "metadata": {},
   "outputs": [
    {
     "name": "stderr",
     "output_type": "stream",
     "text": [
      "/var/folders/bw/5y6vvgld6yv27r1hv8xx5dq80000gn/T/ipykernel_48515/3306953606.py:1: DtypeWarning: Columns (17,18) have mixed types. Specify dtype option on import or set low_memory=False.\n",
      "  df = pd.read_csv('/Users/matthew/Documents/citadel/Consumer_Airfare_Report__Table_6_-_Contiguous_State_City-Pair_Markets_That_Average_At_Least_10_Passengers_Per_Day.csv')\n"
     ]
    }
   ],
   "source": [
    "df = pd.read_csv('/Users/matthew/Documents/citadel/Consumer_Airfare_Report__Table_6_-_Contiguous_State_City-Pair_Markets_That_Average_At_Least_10_Passengers_Per_Day.csv')"
   ]
  },
  {
   "cell_type": "code",
   "execution_count": 3,
   "metadata": {},
   "outputs": [],
   "source": [
    "small_markets = df[df['passengers'] < 100]\n",
    "small_markets = small_markets[['Year', 'nsmiles', 'fare', 'carrier_lg', 'passengers']]"
   ]
  },
  {
   "cell_type": "code",
   "execution_count": 4,
   "metadata": {},
   "outputs": [
    {
     "data": {
      "text/plain": [
       "{'AA': 2558092,\n",
       " 'DL': 4302975,\n",
       " 'WN': 1084044,\n",
       " 'UA': 1670437,\n",
       " 'AS': 279819,\n",
       " 'B6': 28734,\n",
       " 'NK': 28025}"
      ]
     },
     "execution_count": 4,
     "metadata": {},
     "output_type": "execute_result"
    }
   ],
   "source": [
    "# Calculate how many passengers each carrier serviced\n",
    "airline_count = {a:0 for a in ['AA', 'DL', 'WN', 'UA', 'AS', 'B6', 'NK']}\n",
    "\n",
    "for i, row in small_markets.iterrows():\n",
    "    if row['carrier_lg'] in airline_count:\n",
    "        airline_count[row['carrier_lg']] += row['passengers']\n",
    "\n",
    "airline_count"
   ]
  },
  {
   "cell_type": "code",
   "execution_count": 6,
   "metadata": {},
   "outputs": [],
   "source": [
    "small_markets = df[df['passengers'] < 100]\n",
    "small_markets = small_markets[['Year', 'nsmiles', 'fare', 'carrier_lg']]"
   ]
  },
  {
   "cell_type": "code",
   "execution_count": 7,
   "metadata": {},
   "outputs": [],
   "source": [
    "shift = 2004\n",
    "unique_airline = small_markets['carrier_lg'].unique()\n",
    "d = [{a:[] for a in unique_airline} for i in range(2004, 2023)]"
   ]
  },
  {
   "cell_type": "code",
   "execution_count": 8,
   "metadata": {},
   "outputs": [],
   "source": [
    "# extract data about flights into dictionary format\n",
    "for year in range(2004, 2023):\n",
    "    tmp_df = small_markets[small_markets['Year'] == year]\n",
    "\n",
    "    for airline in unique_airline:\n",
    "        unqiue_df = tmp_df[tmp_df['carrier_lg'] == airline]\n",
    "\n",
    "        for _, row in unqiue_df.iterrows():\n",
    "            d[year-shift][airline].append((row['nsmiles'], row['fare']))"
   ]
  },
  {
   "cell_type": "code",
   "execution_count": 9,
   "metadata": {},
   "outputs": [],
   "source": [
    "pricing = [{a:[] for a in unique_airline} for i in range(2004, 2023)]"
   ]
  },
  {
   "cell_type": "code",
   "execution_count": 10,
   "metadata": {},
   "outputs": [
    {
     "name": "stderr",
     "output_type": "stream",
     "text": [
      "/Library/Frameworks/Python.framework/Versions/3.11/lib/python3.11/site-packages/IPython/core/interactiveshell.py:3508: RankWarning: Polyfit may be poorly conditioned\n",
      "  exec(code_obj, self.user_global_ns, self.user_ns)\n",
      "/Library/Frameworks/Python.framework/Versions/3.11/lib/python3.11/site-packages/IPython/core/interactiveshell.py:3508: RankWarning: Polyfit may be poorly conditioned\n",
      "  exec(code_obj, self.user_global_ns, self.user_ns)\n",
      "/Library/Frameworks/Python.framework/Versions/3.11/lib/python3.11/site-packages/IPython/core/interactiveshell.py:3508: RankWarning: Polyfit may be poorly conditioned\n",
      "  exec(code_obj, self.user_global_ns, self.user_ns)\n",
      "/Library/Frameworks/Python.framework/Versions/3.11/lib/python3.11/site-packages/IPython/core/interactiveshell.py:3508: RankWarning: Polyfit may be poorly conditioned\n",
      "  exec(code_obj, self.user_global_ns, self.user_ns)\n",
      "/Library/Frameworks/Python.framework/Versions/3.11/lib/python3.11/site-packages/IPython/core/interactiveshell.py:3508: RankWarning: Polyfit may be poorly conditioned\n",
      "  exec(code_obj, self.user_global_ns, self.user_ns)\n",
      "/Library/Frameworks/Python.framework/Versions/3.11/lib/python3.11/site-packages/IPython/core/interactiveshell.py:3508: RankWarning: Polyfit may be poorly conditioned\n",
      "  exec(code_obj, self.user_global_ns, self.user_ns)\n"
     ]
    }
   ],
   "source": [
    "# Calculate regressions for each instance of dataset\n",
    "for year in range(2004, 2023):\n",
    "    for airline in unique_airline:\n",
    "        if len(d[year-shift][airline]) == 0: continue\n",
    "        dist, fare = zip(*d[year-shift][airline])\n",
    "\n",
    "        a, b = np.polyfit(dist, fare, 1)\n",
    "        pricing[year-shift][airline].extend([a,b])\n"
   ]
  },
  {
   "cell_type": "code",
   "execution_count": 11,
   "metadata": {},
   "outputs": [],
   "source": [
    "# clean data and remove empty values\n",
    "major_airline_pricing = {year:{} for year in range(2004, 2023)}\n",
    "\n",
    "for year in range(2004, 2023):\n",
    "    for airline in ['AA', 'UA', 'B6', 'AS', 'NK', 'WN', 'DL']:\n",
    "        try:\n",
    "            major_airline_pricing[year][airline] = pricing[year-shift][airline]\n",
    "        except:\n",
    "            major_airline_pricing[year][airline] = []"
   ]
  },
  {
   "cell_type": "code",
   "execution_count": 12,
   "metadata": {},
   "outputs": [],
   "source": [
    "small_mkt = pd.DataFrame(major_airline_pricing)\n",
    "small_mkt.to_csv('small_mkt.csv')"
   ]
  }
 ],
 "metadata": {
  "kernelspec": {
   "display_name": "Python 3",
   "language": "python",
   "name": "python3"
  },
  "language_info": {
   "codemirror_mode": {
    "name": "ipython",
    "version": 3
   },
   "file_extension": ".py",
   "mimetype": "text/x-python",
   "name": "python",
   "nbconvert_exporter": "python",
   "pygments_lexer": "ipython3",
   "version": "3.11.3"
  },
  "orig_nbformat": 4
 },
 "nbformat": 4,
 "nbformat_minor": 2
}
