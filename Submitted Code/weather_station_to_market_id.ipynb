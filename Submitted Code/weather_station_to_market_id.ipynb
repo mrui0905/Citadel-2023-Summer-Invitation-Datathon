{
 "cells": [
  {
   "cell_type": "code",
   "execution_count": null,
   "metadata": {},
   "outputs": [],
   "source": [
    "import os\n",
    "import pandas as pd\n",
    "\n",
    "path_to_weather_station_data = \"/Users/tristanbrigham/Desktop/Citadel Datathon/Local Important Data/us-climate-normals_1991-2020_daily_precipitation_by-variable_c20230404/dly_inventory_30yr.txt\""
   ]
  }
 ],
 "metadata": {
  "language_info": {
   "name": "python"
  },
  "orig_nbformat": 4
 },
 "nbformat": 4,
 "nbformat_minor": 2
}
